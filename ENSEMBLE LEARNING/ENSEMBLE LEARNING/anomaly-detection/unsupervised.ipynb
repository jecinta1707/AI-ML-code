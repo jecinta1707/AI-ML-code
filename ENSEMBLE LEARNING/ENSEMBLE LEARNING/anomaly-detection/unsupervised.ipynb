{
 "cells": [
  {
   "cell_type": "code",
   "execution_count": 1,
   "id": "184cd510",
   "metadata": {},
   "outputs": [],
   "source": [
    "import pandas as pd\n",
    "import numpy as np\n",
    "from sklearn.manifold import TSNE\n",
    "from sklearn.preprocessing import LabelEncoder\n",
    "from sklearn.decomposition import PCA\n",
    "from sklearn.preprocessing import StandardScaler\n",
    "from sklearn.cluster import KMeans"
   ]
  },
  {
   "cell_type": "code",
   "execution_count": 2,
   "id": "57124769",
   "metadata": {},
   "outputs": [],
   "source": [
    "df = pd.read_csv('new_filename.csv')"
   ]
  },
  {
   "cell_type": "code",
   "execution_count": null,
   "id": "3b46712b",
   "metadata": {},
   "outputs": [],
   "source": [
    "df['Device Type'].value_counts()"
   ]
  },
  {
   "cell_type": "code",
   "execution_count": null,
   "id": "1a6ffd22",
   "metadata": {},
   "outputs": [],
   "source": [
    "df['Device Type'] = df['Device Type'].fillna(value='unknown') "
   ]
  },
  {
   "cell_type": "code",
   "execution_count": null,
   "id": "4f4ff64d",
   "metadata": {},
   "outputs": [],
   "source": [
    "df['City'].value_counts()\n",
    "df[\"City\"] = df[\"City\"].replace(\"-\", \"unknown\") \n",
    "df['City'] = df['City'].fillna(value='unknown')"
   ]
  },
  {
   "cell_type": "code",
   "execution_count": null,
   "id": "9807b42c",
   "metadata": {},
   "outputs": [],
   "source": [
    "df['Region'].value_counts() \n",
    "df[\"Region\"] = df[\"Region\"].replace(\"-\", \"unknown\")\n",
    "df['Region'] = df['Region'].fillna(value='unknown') "
   ]
  },
  {
   "cell_type": "code",
   "execution_count": null,
   "id": "c81395bc",
   "metadata": {},
   "outputs": [],
   "source": [
    "top_user_id = df['User ID'].value_counts().idxmax()\n",
    "\n",
    "# Remove all rows associated with the top user\n",
    "df.drop(df[df['User ID'] == top_user_id].index, inplace=True)\n",
    "\n",
    "# Verify the removal\n",
    "unique_users = df['User ID'].nunique()\n",
    "print(\"Number of unique users after removal:\", unique_users)"
   ]
  },
  {
   "cell_type": "code",
   "execution_count": null,
   "id": "c71e46fa",
   "metadata": {},
   "outputs": [],
   "source": [
    "df['Browser Category'].nunique()"
   ]
  },
  {
   "cell_type": "code",
   "execution_count": null,
   "id": "28ec719f",
   "metadata": {},
   "outputs": [],
   "source": [
    "df[\"Browser Category\"] = df[\"Browser Category\"].replace(\"-\", \"unknown\")\n",
    "df['Browser Category'] = df['Browser Category'].fillna(value='unknown')"
   ]
  },
  {
   "cell_type": "code",
   "execution_count": null,
   "id": "5ceb66e3",
   "metadata": {},
   "outputs": [],
   "source": [
    "df['Login Timestamp'] = pd.to_datetime(df['Login Timestamp'])\n",
    "\n",
    "# Extract date and time components\n",
    "df['Date'] = df['Login Timestamp'].dt.date\n",
    "df['Time'] = df['Login Timestamp'].dt.time"
   ]
  },
  {
   "cell_type": "code",
   "execution_count": null,
   "id": "13993c50",
   "metadata": {},
   "outputs": [],
   "source": [
    "df['Timestamp'] = pd.to_datetime(df['Login Timestamp'])\n",
    "\n",
    "df['Year'] = df['Timestamp'].dt.year\n",
    "df['Month'] = df['Timestamp'].dt.month\n",
    "df['Day'] = df['Timestamp'].dt.day\n",
    "df['Hour'] = df['Timestamp'].dt.hour\n",
    "df['Minute'] = df['Timestamp'].dt.minute\n",
    "df['Second'] = df['Timestamp'].dt.second"
   ]
  },
  {
   "cell_type": "code",
   "execution_count": null,
   "id": "eebd4664",
   "metadata": {},
   "outputs": [],
   "source": [
    "df[['Octet1', 'Octet2', 'Octet3', 'Octet4']] = df['IP Address'].str.split('.', expand=True).astype(int)"
   ]
  },
  {
   "cell_type": "code",
   "execution_count": null,
   "id": "c4daa77c",
   "metadata": {},
   "outputs": [],
   "source": [
    "df = df.drop(['Login Timestamp', 'IP Address', 'Timestamp'], axis = 1)"
   ]
  },
  {
   "cell_type": "code",
   "execution_count": null,
   "id": "d6c83efa",
   "metadata": {},
   "outputs": [],
   "source": [
    "df['NumSuccessfulLogins'] = df.groupby('User ID')['Login Successful'].transform('sum')\n",
    "\n",
    "# Grouping the data by \"User ID\" and count the number of False values in \"Login Successful\"\n",
    "false_counts = df[df['Login Successful'] == False].groupby('User ID').size().reset_index(name='NumUnsuccessfulLogins')\n",
    "\n",
    "# Merging the false_counts DataFrame with the original data\n",
    "df = df.merge(false_counts, on='User ID', how='left')\n",
    "\n",
    "# Filling NaN values in the new column with 0\n",
    "df['NumUnsuccessfulLogins'] = df['NumUnsuccessfulLogins'].fillna(0)\n",
    "\n",
    "# Converting the values in the \"False Count\" column to integers\n",
    "df['NumUnsuccessfulLogins'] = df['NumUnsuccessfulLogins'].astype(int)"
   ]
  },
  {
   "cell_type": "code",
   "execution_count": null,
   "id": "f821d388",
   "metadata": {},
   "outputs": [],
   "source": [
    "df['NumSuccessfulLogins'] = df['NumSuccessfulLogins'].replace(0, 1)"
   ]
  },
  {
   "cell_type": "code",
   "execution_count": null,
   "id": "70fd70cc",
   "metadata": {},
   "outputs": [],
   "source": [
    "df['LoginRatio'] = df['NumUnsuccessfulLogins'] / df['NumSuccessfulLogins']\n",
    "df['LoginRatio'].replace(np.inf, 0, inplace=True)"
   ]
  },
  {
   "cell_type": "code",
   "execution_count": null,
   "id": "689d3547",
   "metadata": {},
   "outputs": [],
   "source": [
    "df = df.drop(['NumSuccessfulLogins', 'NumUnsuccessfulLogins'], axis = 1)"
   ]
  },
  {
   "cell_type": "code",
   "execution_count": null,
   "id": "1b8d94a8",
   "metadata": {},
   "outputs": [],
   "source": [
    "# Calculating the total number of different device types used by each user\n",
    "device_counts = df.groupby('User ID')['Device Type'].transform('nunique')\n",
    "\n",
    "# Adding the column to the DataFrame\n",
    "df['Total Devices Per User'] = device_counts"
   ]
  },
  {
   "cell_type": "code",
   "execution_count": null,
   "id": "ad739eee",
   "metadata": {},
   "outputs": [],
   "source": [
    "# Calculating the total number of different countries visited by each user\n",
    "country_counts = df.groupby('User ID')['Country'].transform('nunique')\n",
    "\n",
    "# Adding the column to the DataFrame\n",
    "df['Total Countries Per User'] = country_counts"
   ]
  },
  {
   "cell_type": "code",
   "execution_count": null,
   "id": "a7ee75f0",
   "metadata": {},
   "outputs": [],
   "source": [
    "# Calculating the total number of different browser categories used by each user\n",
    "browser_counts = df.groupby('User ID')['Browser Category'].transform('nunique')\n",
    "\n",
    "# Add the 'Total Browser Categories' column to the DataFrame\n",
    "df['Total Browser Categories Per User'] = browser_counts\n"
   ]
  },
  {
   "cell_type": "code",
   "execution_count": null,
   "id": "60fe283a",
   "metadata": {},
   "outputs": [],
   "source": [
    "df.info()"
   ]
  },
  {
   "cell_type": "code",
   "execution_count": 3,
   "id": "96e465b4",
   "metadata": {},
   "outputs": [
    {
     "data": {
      "text/html": [
       "<div>\n",
       "<style scoped>\n",
       "    .dataframe tbody tr th:only-of-type {\n",
       "        vertical-align: middle;\n",
       "    }\n",
       "\n",
       "    .dataframe tbody tr th {\n",
       "        vertical-align: top;\n",
       "    }\n",
       "\n",
       "    .dataframe thead th {\n",
       "        text-align: right;\n",
       "    }\n",
       "</style>\n",
       "<table border=\"1\" class=\"dataframe\">\n",
       "  <thead>\n",
       "    <tr style=\"text-align: right;\">\n",
       "      <th></th>\n",
       "      <th>User ID</th>\n",
       "      <th>Country</th>\n",
       "      <th>Region</th>\n",
       "      <th>City</th>\n",
       "      <th>Device Type</th>\n",
       "      <th>Login Successful</th>\n",
       "      <th>Browser Category</th>\n",
       "      <th>Octet1</th>\n",
       "      <th>Octet2</th>\n",
       "      <th>Octet3</th>\n",
       "      <th>...</th>\n",
       "      <th>Year</th>\n",
       "      <th>Month</th>\n",
       "      <th>Day</th>\n",
       "      <th>Hour</th>\n",
       "      <th>Minute</th>\n",
       "      <th>Second</th>\n",
       "      <th>LoginRatio</th>\n",
       "      <th>Total Devices Per User</th>\n",
       "      <th>Total Countries Per User</th>\n",
       "      <th>Total Browser Categories Per User</th>\n",
       "    </tr>\n",
       "  </thead>\n",
       "  <tbody>\n",
       "    <tr>\n",
       "      <th>0</th>\n",
       "      <td>-3284137479262433373</td>\n",
       "      <td>NO</td>\n",
       "      <td>Vestland</td>\n",
       "      <td>Urangsvag</td>\n",
       "      <td>mobile</td>\n",
       "      <td>True</td>\n",
       "      <td>Android</td>\n",
       "      <td>81</td>\n",
       "      <td>167</td>\n",
       "      <td>144</td>\n",
       "      <td>...</td>\n",
       "      <td>2020</td>\n",
       "      <td>2</td>\n",
       "      <td>3</td>\n",
       "      <td>12</td>\n",
       "      <td>43</td>\n",
       "      <td>55</td>\n",
       "      <td>0.052632</td>\n",
       "      <td>2</td>\n",
       "      <td>1</td>\n",
       "      <td>4</td>\n",
       "    </tr>\n",
       "    <tr>\n",
       "      <th>1</th>\n",
       "      <td>-4618854071942621186</td>\n",
       "      <td>US</td>\n",
       "      <td>Virginia</td>\n",
       "      <td>Ashburn</td>\n",
       "      <td>mobile</td>\n",
       "      <td>False</td>\n",
       "      <td>Chrome Mobile WebView</td>\n",
       "      <td>10</td>\n",
       "      <td>0</td>\n",
       "      <td>0</td>\n",
       "      <td>...</td>\n",
       "      <td>2020</td>\n",
       "      <td>2</td>\n",
       "      <td>3</td>\n",
       "      <td>12</td>\n",
       "      <td>43</td>\n",
       "      <td>59</td>\n",
       "      <td>2.000000</td>\n",
       "      <td>1</td>\n",
       "      <td>1</td>\n",
       "      <td>1</td>\n",
       "    </tr>\n",
       "    <tr>\n",
       "      <th>2</th>\n",
       "      <td>7246533443898239661</td>\n",
       "      <td>NO</td>\n",
       "      <td>unknown</td>\n",
       "      <td>unknown</td>\n",
       "      <td>desktop</td>\n",
       "      <td>True</td>\n",
       "      <td>Chrome</td>\n",
       "      <td>80</td>\n",
       "      <td>202</td>\n",
       "      <td>228</td>\n",
       "      <td>...</td>\n",
       "      <td>2020</td>\n",
       "      <td>2</td>\n",
       "      <td>3</td>\n",
       "      <td>12</td>\n",
       "      <td>44</td>\n",
       "      <td>7</td>\n",
       "      <td>1.000000</td>\n",
       "      <td>2</td>\n",
       "      <td>1</td>\n",
       "      <td>2</td>\n",
       "    </tr>\n",
       "    <tr>\n",
       "      <th>3</th>\n",
       "      <td>-3243978724802435038</td>\n",
       "      <td>US</td>\n",
       "      <td>unknown</td>\n",
       "      <td>unknown</td>\n",
       "      <td>mobile</td>\n",
       "      <td>False</td>\n",
       "      <td>Chrome Mobile</td>\n",
       "      <td>170</td>\n",
       "      <td>39</td>\n",
       "      <td>78</td>\n",
       "      <td>...</td>\n",
       "      <td>2020</td>\n",
       "      <td>2</td>\n",
       "      <td>3</td>\n",
       "      <td>12</td>\n",
       "      <td>44</td>\n",
       "      <td>12</td>\n",
       "      <td>1.500000</td>\n",
       "      <td>1</td>\n",
       "      <td>1</td>\n",
       "      <td>1</td>\n",
       "    </tr>\n",
       "    <tr>\n",
       "      <th>4</th>\n",
       "      <td>8076000552587369902</td>\n",
       "      <td>NO</td>\n",
       "      <td>unknown</td>\n",
       "      <td>unknown</td>\n",
       "      <td>mobile</td>\n",
       "      <td>False</td>\n",
       "      <td>MiuiBrowser</td>\n",
       "      <td>10</td>\n",
       "      <td>0</td>\n",
       "      <td>61</td>\n",
       "      <td>...</td>\n",
       "      <td>2020</td>\n",
       "      <td>2</td>\n",
       "      <td>3</td>\n",
       "      <td>12</td>\n",
       "      <td>44</td>\n",
       "      <td>17</td>\n",
       "      <td>0.007533</td>\n",
       "      <td>2</td>\n",
       "      <td>1</td>\n",
       "      <td>4</td>\n",
       "    </tr>\n",
       "  </tbody>\n",
       "</table>\n",
       "<p>5 rows × 21 columns</p>\n",
       "</div>"
      ],
      "text/plain": [
       "               User ID Country    Region       City Device Type  \\\n",
       "0 -3284137479262433373      NO  Vestland  Urangsvag      mobile   \n",
       "1 -4618854071942621186      US  Virginia    Ashburn      mobile   \n",
       "2  7246533443898239661      NO   unknown    unknown     desktop   \n",
       "3 -3243978724802435038      US   unknown    unknown      mobile   \n",
       "4  8076000552587369902      NO   unknown    unknown      mobile   \n",
       "\n",
       "   Login Successful        Browser Category  Octet1  Octet2  Octet3  ...  \\\n",
       "0              True                Android       81     167     144  ...   \n",
       "1             False  Chrome Mobile WebView       10       0       0  ...   \n",
       "2              True                 Chrome       80     202     228  ...   \n",
       "3             False          Chrome Mobile      170      39      78  ...   \n",
       "4             False            MiuiBrowser       10       0      61  ...   \n",
       "\n",
       "   Year  Month  Day  Hour  Minute  Second  LoginRatio  Total Devices Per User  \\\n",
       "0  2020      2    3    12      43      55    0.052632                       2   \n",
       "1  2020      2    3    12      43      59    2.000000                       1   \n",
       "2  2020      2    3    12      44       7    1.000000                       2   \n",
       "3  2020      2    3    12      44      12    1.500000                       1   \n",
       "4  2020      2    3    12      44      17    0.007533                       2   \n",
       "\n",
       "   Total Countries Per User  Total Browser Categories Per User  \n",
       "0                         1                                  4  \n",
       "1                         1                                  1  \n",
       "2                         1                                  2  \n",
       "3                         1                                  1  \n",
       "4                         1                                  4  \n",
       "\n",
       "[5 rows x 21 columns]"
      ]
     },
     "execution_count": 3,
     "metadata": {},
     "output_type": "execute_result"
    }
   ],
   "source": [
    "df.head()"
   ]
  },
  {
   "cell_type": "code",
   "execution_count": 8,
   "id": "28bdcaf6",
   "metadata": {},
   "outputs": [],
   "source": [
    "# Select the categorical columns to encode\n",
    "categorical_columns = ['Country', 'Region', 'City', 'Device Type', 'Browser Category']\n",
    "\n",
    "# Encode categorical columns using LabelEncoder\n",
    "label_encoder = LabelEncoder()\n",
    "for column in categorical_columns:\n",
    "    df[column] = label_encoder.fit_transform(df[column])"
   ]
  },
  {
   "cell_type": "code",
   "execution_count": 12,
   "id": "bfad76ae",
   "metadata": {},
   "outputs": [],
   "source": [
    "# Convert the 'Login Successful' column to int\n",
    "df['Login Successful'] = df['Login Successful'].astype(int)\n",
    "\n",
    "# Convert the 'LoginRatio' column to int or any other desired data type\n",
    "df['LoginRatio'] = df['LoginRatio'].astype(int)"
   ]
  },
  {
   "cell_type": "code",
   "execution_count": 13,
   "id": "5977ddd0",
   "metadata": {},
   "outputs": [
    {
     "name": "stdout",
     "output_type": "stream",
     "text": [
      "<class 'pandas.core.frame.DataFrame'>\n",
      "RangeIndex: 17243365 entries, 0 to 17243364\n",
      "Data columns (total 21 columns):\n",
      " #   Column                             Dtype\n",
      "---  ------                             -----\n",
      " 0   User ID                            int64\n",
      " 1   Country                            int64\n",
      " 2   Region                             int64\n",
      " 3   City                               int64\n",
      " 4   Device Type                        int64\n",
      " 5   Login Successful                   int64\n",
      " 6   Browser Category                   int64\n",
      " 7   Octet1                             int64\n",
      " 8   Octet2                             int64\n",
      " 9   Octet3                             int64\n",
      " 10  Octet4                             int64\n",
      " 11  Year                               int64\n",
      " 12  Month                              int64\n",
      " 13  Day                                int64\n",
      " 14  Hour                               int64\n",
      " 15  Minute                             int64\n",
      " 16  Second                             int64\n",
      " 17  LoginRatio                         int64\n",
      " 18  Total Devices Per User             int64\n",
      " 19  Total Countries Per User           int64\n",
      " 20  Total Browser Categories Per User  int64\n",
      "dtypes: int64(21)\n",
      "memory usage: 2.7 GB\n"
     ]
    }
   ],
   "source": [
    "df.info()"
   ]
  },
  {
   "cell_type": "code",
   "execution_count": 14,
   "id": "69428b5d",
   "metadata": {},
   "outputs": [
    {
     "data": {
      "text/html": [
       "<div>\n",
       "<style scoped>\n",
       "    .dataframe tbody tr th:only-of-type {\n",
       "        vertical-align: middle;\n",
       "    }\n",
       "\n",
       "    .dataframe tbody tr th {\n",
       "        vertical-align: top;\n",
       "    }\n",
       "\n",
       "    .dataframe thead th {\n",
       "        text-align: right;\n",
       "    }\n",
       "</style>\n",
       "<table border=\"1\" class=\"dataframe\">\n",
       "  <thead>\n",
       "    <tr style=\"text-align: right;\">\n",
       "      <th></th>\n",
       "      <th>User ID</th>\n",
       "      <th>Country</th>\n",
       "      <th>Region</th>\n",
       "      <th>City</th>\n",
       "      <th>Device Type</th>\n",
       "      <th>Login Successful</th>\n",
       "      <th>Browser Category</th>\n",
       "      <th>Octet1</th>\n",
       "      <th>Octet2</th>\n",
       "      <th>Octet3</th>\n",
       "      <th>...</th>\n",
       "      <th>Year</th>\n",
       "      <th>Month</th>\n",
       "      <th>Day</th>\n",
       "      <th>Hour</th>\n",
       "      <th>Minute</th>\n",
       "      <th>Second</th>\n",
       "      <th>LoginRatio</th>\n",
       "      <th>Total Devices Per User</th>\n",
       "      <th>Total Countries Per User</th>\n",
       "      <th>Total Browser Categories Per User</th>\n",
       "    </tr>\n",
       "  </thead>\n",
       "  <tbody>\n",
       "    <tr>\n",
       "      <th>0</th>\n",
       "      <td>-3284137479262433373</td>\n",
       "      <td>146</td>\n",
       "      <td>1802</td>\n",
       "      <td>24909</td>\n",
       "      <td>2</td>\n",
       "      <td>1</td>\n",
       "      <td>2</td>\n",
       "      <td>81</td>\n",
       "      <td>167</td>\n",
       "      <td>144</td>\n",
       "      <td>...</td>\n",
       "      <td>2020</td>\n",
       "      <td>2</td>\n",
       "      <td>3</td>\n",
       "      <td>12</td>\n",
       "      <td>43</td>\n",
       "      <td>55</td>\n",
       "      <td>0</td>\n",
       "      <td>2</td>\n",
       "      <td>1</td>\n",
       "      <td>4</td>\n",
       "    </tr>\n",
       "    <tr>\n",
       "      <th>1</th>\n",
       "      <td>-4618854071942621186</td>\n",
       "      <td>202</td>\n",
       "      <td>1818</td>\n",
       "      <td>1232</td>\n",
       "      <td>2</td>\n",
       "      <td>0</td>\n",
       "      <td>10</td>\n",
       "      <td>10</td>\n",
       "      <td>0</td>\n",
       "      <td>0</td>\n",
       "      <td>...</td>\n",
       "      <td>2020</td>\n",
       "      <td>2</td>\n",
       "      <td>3</td>\n",
       "      <td>12</td>\n",
       "      <td>43</td>\n",
       "      <td>59</td>\n",
       "      <td>2</td>\n",
       "      <td>1</td>\n",
       "      <td>1</td>\n",
       "      <td>1</td>\n",
       "    </tr>\n",
       "    <tr>\n",
       "      <th>2</th>\n",
       "      <td>7246533443898239661</td>\n",
       "      <td>146</td>\n",
       "      <td>1916</td>\n",
       "      <td>26921</td>\n",
       "      <td>1</td>\n",
       "      <td>1</td>\n",
       "      <td>8</td>\n",
       "      <td>80</td>\n",
       "      <td>202</td>\n",
       "      <td>228</td>\n",
       "      <td>...</td>\n",
       "      <td>2020</td>\n",
       "      <td>2</td>\n",
       "      <td>3</td>\n",
       "      <td>12</td>\n",
       "      <td>44</td>\n",
       "      <td>7</td>\n",
       "      <td>1</td>\n",
       "      <td>2</td>\n",
       "      <td>1</td>\n",
       "      <td>2</td>\n",
       "    </tr>\n",
       "    <tr>\n",
       "      <th>3</th>\n",
       "      <td>-3243978724802435038</td>\n",
       "      <td>202</td>\n",
       "      <td>1916</td>\n",
       "      <td>26921</td>\n",
       "      <td>2</td>\n",
       "      <td>0</td>\n",
       "      <td>9</td>\n",
       "      <td>170</td>\n",
       "      <td>39</td>\n",
       "      <td>78</td>\n",
       "      <td>...</td>\n",
       "      <td>2020</td>\n",
       "      <td>2</td>\n",
       "      <td>3</td>\n",
       "      <td>12</td>\n",
       "      <td>44</td>\n",
       "      <td>12</td>\n",
       "      <td>1</td>\n",
       "      <td>1</td>\n",
       "      <td>1</td>\n",
       "      <td>1</td>\n",
       "    </tr>\n",
       "    <tr>\n",
       "      <th>4</th>\n",
       "      <td>8076000552587369902</td>\n",
       "      <td>146</td>\n",
       "      <td>1916</td>\n",
       "      <td>26921</td>\n",
       "      <td>2</td>\n",
       "      <td>0</td>\n",
       "      <td>31</td>\n",
       "      <td>10</td>\n",
       "      <td>0</td>\n",
       "      <td>61</td>\n",
       "      <td>...</td>\n",
       "      <td>2020</td>\n",
       "      <td>2</td>\n",
       "      <td>3</td>\n",
       "      <td>12</td>\n",
       "      <td>44</td>\n",
       "      <td>17</td>\n",
       "      <td>0</td>\n",
       "      <td>2</td>\n",
       "      <td>1</td>\n",
       "      <td>4</td>\n",
       "    </tr>\n",
       "  </tbody>\n",
       "</table>\n",
       "<p>5 rows × 21 columns</p>\n",
       "</div>"
      ],
      "text/plain": [
       "               User ID  Country  Region   City  Device Type  Login Successful  \\\n",
       "0 -3284137479262433373      146    1802  24909            2                 1   \n",
       "1 -4618854071942621186      202    1818   1232            2                 0   \n",
       "2  7246533443898239661      146    1916  26921            1                 1   \n",
       "3 -3243978724802435038      202    1916  26921            2                 0   \n",
       "4  8076000552587369902      146    1916  26921            2                 0   \n",
       "\n",
       "   Browser Category  Octet1  Octet2  Octet3  ...  Year  Month  Day  Hour  \\\n",
       "0                 2      81     167     144  ...  2020      2    3    12   \n",
       "1                10      10       0       0  ...  2020      2    3    12   \n",
       "2                 8      80     202     228  ...  2020      2    3    12   \n",
       "3                 9     170      39      78  ...  2020      2    3    12   \n",
       "4                31      10       0      61  ...  2020      2    3    12   \n",
       "\n",
       "   Minute  Second  LoginRatio  Total Devices Per User  \\\n",
       "0      43      55           0                       2   \n",
       "1      43      59           2                       1   \n",
       "2      44       7           1                       2   \n",
       "3      44      12           1                       1   \n",
       "4      44      17           0                       2   \n",
       "\n",
       "   Total Countries Per User  Total Browser Categories Per User  \n",
       "0                         1                                  4  \n",
       "1                         1                                  1  \n",
       "2                         1                                  2  \n",
       "3                         1                                  1  \n",
       "4                         1                                  4  \n",
       "\n",
       "[5 rows x 21 columns]"
      ]
     },
     "execution_count": 14,
     "metadata": {},
     "output_type": "execute_result"
    }
   ],
   "source": [
    "df.head()"
   ]
  },
  {
   "cell_type": "code",
   "execution_count": 18,
   "id": "fdeb03a7",
   "metadata": {},
   "outputs": [],
   "source": [
    "selected_columns = ['Octet1', 'Octet2', 'Octet3', 'LoginRatio', 'Total Devices Per User', 'Total Countries Per User', 'Total Browser Categories Per User','Country', 'City', 'Region','Device Type', 'Login Successful','Browser Category']"
   ]
  },
  {
   "cell_type": "code",
   "execution_count": 20,
   "id": "55123e17",
   "metadata": {},
   "outputs": [],
   "source": [
    "# Scale the features\n",
    "scaler = StandardScaler()\n",
    "X_scaled = scaler.fit_transform(df[selected_columns])"
   ]
  },
  {
   "cell_type": "code",
   "execution_count": 21,
   "id": "3d6fac64",
   "metadata": {},
   "outputs": [
    {
     "data": {
      "text/html": [
       "<style>#sk-container-id-1 {color: black;background-color: white;}#sk-container-id-1 pre{padding: 0;}#sk-container-id-1 div.sk-toggleable {background-color: white;}#sk-container-id-1 label.sk-toggleable__label {cursor: pointer;display: block;width: 100%;margin-bottom: 0;padding: 0.3em;box-sizing: border-box;text-align: center;}#sk-container-id-1 label.sk-toggleable__label-arrow:before {content: \"▸\";float: left;margin-right: 0.25em;color: #696969;}#sk-container-id-1 label.sk-toggleable__label-arrow:hover:before {color: black;}#sk-container-id-1 div.sk-estimator:hover label.sk-toggleable__label-arrow:before {color: black;}#sk-container-id-1 div.sk-toggleable__content {max-height: 0;max-width: 0;overflow: hidden;text-align: left;background-color: #f0f8ff;}#sk-container-id-1 div.sk-toggleable__content pre {margin: 0.2em;color: black;border-radius: 0.25em;background-color: #f0f8ff;}#sk-container-id-1 input.sk-toggleable__control:checked~div.sk-toggleable__content {max-height: 200px;max-width: 100%;overflow: auto;}#sk-container-id-1 input.sk-toggleable__control:checked~label.sk-toggleable__label-arrow:before {content: \"▾\";}#sk-container-id-1 div.sk-estimator input.sk-toggleable__control:checked~label.sk-toggleable__label {background-color: #d4ebff;}#sk-container-id-1 div.sk-label input.sk-toggleable__control:checked~label.sk-toggleable__label {background-color: #d4ebff;}#sk-container-id-1 input.sk-hidden--visually {border: 0;clip: rect(1px 1px 1px 1px);clip: rect(1px, 1px, 1px, 1px);height: 1px;margin: -1px;overflow: hidden;padding: 0;position: absolute;width: 1px;}#sk-container-id-1 div.sk-estimator {font-family: monospace;background-color: #f0f8ff;border: 1px dotted black;border-radius: 0.25em;box-sizing: border-box;margin-bottom: 0.5em;}#sk-container-id-1 div.sk-estimator:hover {background-color: #d4ebff;}#sk-container-id-1 div.sk-parallel-item::after {content: \"\";width: 100%;border-bottom: 1px solid gray;flex-grow: 1;}#sk-container-id-1 div.sk-label:hover label.sk-toggleable__label {background-color: #d4ebff;}#sk-container-id-1 div.sk-serial::before {content: \"\";position: absolute;border-left: 1px solid gray;box-sizing: border-box;top: 0;bottom: 0;left: 50%;z-index: 0;}#sk-container-id-1 div.sk-serial {display: flex;flex-direction: column;align-items: center;background-color: white;padding-right: 0.2em;padding-left: 0.2em;position: relative;}#sk-container-id-1 div.sk-item {position: relative;z-index: 1;}#sk-container-id-1 div.sk-parallel {display: flex;align-items: stretch;justify-content: center;background-color: white;position: relative;}#sk-container-id-1 div.sk-item::before, #sk-container-id-1 div.sk-parallel-item::before {content: \"\";position: absolute;border-left: 1px solid gray;box-sizing: border-box;top: 0;bottom: 0;left: 50%;z-index: -1;}#sk-container-id-1 div.sk-parallel-item {display: flex;flex-direction: column;z-index: 1;position: relative;background-color: white;}#sk-container-id-1 div.sk-parallel-item:first-child::after {align-self: flex-end;width: 50%;}#sk-container-id-1 div.sk-parallel-item:last-child::after {align-self: flex-start;width: 50%;}#sk-container-id-1 div.sk-parallel-item:only-child::after {width: 0;}#sk-container-id-1 div.sk-dashed-wrapped {border: 1px dashed gray;margin: 0 0.4em 0.5em 0.4em;box-sizing: border-box;padding-bottom: 0.4em;background-color: white;}#sk-container-id-1 div.sk-label label {font-family: monospace;font-weight: bold;display: inline-block;line-height: 1.2em;}#sk-container-id-1 div.sk-label-container {text-align: center;}#sk-container-id-1 div.sk-container {/* jupyter's `normalize.less` sets `[hidden] { display: none; }` but bootstrap.min.css set `[hidden] { display: none !important; }` so we also need the `!important` here to be able to override the default hidden behavior on the sphinx rendered scikit-learn.org. See: https://github.com/scikit-learn/scikit-learn/issues/21755 */display: inline-block !important;position: relative;}#sk-container-id-1 div.sk-text-repr-fallback {display: none;}</style><div id=\"sk-container-id-1\" class=\"sk-top-container\"><div class=\"sk-text-repr-fallback\"><pre>PCA()</pre><b>In a Jupyter environment, please rerun this cell to show the HTML representation or trust the notebook. <br />On GitHub, the HTML representation is unable to render, please try loading this page with nbviewer.org.</b></div><div class=\"sk-container\" hidden><div class=\"sk-item\"><div class=\"sk-estimator sk-toggleable\"><input class=\"sk-toggleable__control sk-hidden--visually\" id=\"sk-estimator-id-1\" type=\"checkbox\" checked><label for=\"sk-estimator-id-1\" class=\"sk-toggleable__label sk-toggleable__label-arrow\">PCA</label><div class=\"sk-toggleable__content\"><pre>PCA()</pre></div></div></div></div></div>"
      ],
      "text/plain": [
       "PCA()"
      ]
     },
     "execution_count": 21,
     "metadata": {},
     "output_type": "execute_result"
    }
   ],
   "source": [
    "# Perform PCA\n",
    "pca = PCA()\n",
    "pca.fit(X_scaled)"
   ]
  },
  {
   "cell_type": "code",
   "execution_count": 22,
   "id": "2856d961",
   "metadata": {},
   "outputs": [],
   "source": [
    "# Access the explained variance ratios or principal component loadings\n",
    "explained_variance_ratio = pca.explained_variance_ratio_\n",
    "principal_component_loadings = pca.components_"
   ]
  },
  {
   "cell_type": "code",
   "execution_count": 23,
   "id": "1cc6ac9d",
   "metadata": {},
   "outputs": [
    {
     "name": "stdout",
     "output_type": "stream",
     "text": [
      "Octet1: Explained Variance Ratio = 0.1823766268024139, Loadings = [-2.57836346e-01  8.74857977e-02 -2.90931287e-02 -2.18773720e-05\n",
      "  4.88770319e-01  1.64149168e-01  4.74682485e-01 -2.90815653e-01\n",
      " -3.50064882e-01 -3.13687963e-01 -2.43055388e-01  2.62140126e-01\n",
      " -2.32967133e-02]\n",
      "Octet2: Explained Variance Ratio = 0.10980850006182005, Loadings = [ 0.26051156  0.23544746  0.20634456 -0.33797139  0.34978819  0.15180026\n",
      "  0.39020194  0.15474615  0.34526869  0.46620579  0.16638088  0.10508471\n",
      "  0.15169954]\n",
      "Octet3: Explained Variance Ratio = 0.09563035631658413, Loadings = [-0.27385046 -0.71406092 -0.45217466 -0.28789513  0.03053887  0.18345497\n",
      "  0.07698757 -0.05445501  0.19644615  0.15050922  0.09295318  0.08340859\n",
      "  0.0863436 ]\n",
      "LoginRatio: Explained Variance Ratio = 0.0909320953267244, Loadings = [-0.12441987  0.05310812  0.0179049  -0.0513357  -0.03046261 -0.06770448\n",
      "  0.09333055  0.06846819 -0.27126966 -0.24299442  0.5830214  -0.18459851\n",
      "  0.67320788]\n",
      "Total Devices Per User: Explained Variance Ratio = 0.08462835809008862, Loadings = [ 0.39598057  0.0099741  -0.51485658  0.53091356  0.18449817  0.25504297\n",
      "  0.21302266  0.1823693   0.04326093 -0.03755566  0.00517138 -0.3387625\n",
      "  0.01899968]\n",
      "Total Countries Per User: Explained Variance Ratio = 0.07543855283510817, Loadings = [-0.28279388 -0.08780114  0.46836225  0.15005055 -0.08513831  0.69196459\n",
      " -0.01737462 -0.11198655  0.08806388  0.0279789   0.01792574 -0.40062678\n",
      " -0.04661117]\n",
      "Total Browser Categories Per User: Explained Variance Ratio = 0.07221425638768213, Loadings = [ 0.34450814  0.08472248 -0.07489791  0.11056061 -0.23261725  0.27375879\n",
      " -0.17042153 -0.6091395   0.14807409  0.00986953 -0.07191236  0.37568852\n",
      "  0.39851876]\n",
      "Country: Explained Variance Ratio = 0.06726378078028172, Loadings = [ 0.26843611  0.18335746 -0.21527516 -0.49413044 -0.15173985  0.45575857\n",
      " -0.14165664  0.13712728 -0.31015825 -0.23074792  0.24091128  0.08746976\n",
      " -0.34506595]\n",
      "City: Explained Variance Ratio = 0.06005261049495651, Loadings = [-0.15730487 -0.03617414  0.08486037  0.31201731 -0.11155718  0.26109317\n",
      " -0.05935895  0.61563796 -0.02530922 -0.01320912 -0.05965658  0.61165767\n",
      "  0.16656302]\n",
      "Region: Explained Variance Ratio = 0.05459399989114132, Loadings = [-0.02644491  0.134639   -0.13471466 -0.34531662 -0.08585377  0.09297009\n",
      " -0.0891798   0.22269644 -0.12781756  0.05143083 -0.68889098 -0.28405931\n",
      "  0.44269337]\n",
      "Device Type: Explained Variance Ratio = 0.045337517767337514, Loadings = [-0.53889059  0.54564939 -0.42229782  0.0953296  -0.08598815  0.06369962\n",
      " -0.09141242 -0.11796706  0.00224628  0.40875697  0.13860927  0.01091937\n",
      " -0.06555429]\n",
      "Login Successful: Explained Variance Ratio = 0.042637645593381755, Loadings = [-0.17833895  0.24131423 -0.10814122 -0.11726321  0.00351724 -0.00395973\n",
      "  0.01333337  0.07483066  0.70798018 -0.61405745 -0.01346245 -0.01469743\n",
      "  0.00350519]\n",
      "Browser Category: Explained Variance Ratio = 0.019085699652479648, Loadings = [ 0.00331194  0.01410105 -0.00448484 -0.00683341 -0.70088881 -0.06606089\n",
      "  0.70212545 -0.00725331 -0.00980302  0.0070016  -0.0600506  -0.00119886\n",
      " -0.08560861]\n"
     ]
    }
   ],
   "source": [
    "# Print the explained variance ratios or principal component loadings\n",
    "for feature, variance_ratio, loadings in zip(selected_columns, explained_variance_ratio, principal_component_loadings):\n",
    "    print(f\"{feature}: Explained Variance Ratio = {variance_ratio}, Loadings = {loadings}\")"
   ]
  },
  {
   "cell_type": "code",
   "execution_count": 26,
   "id": "dbcbc6a5",
   "metadata": {},
   "outputs": [],
   "source": [
    "import numpy as np \n"
   ]
  },
  {
   "cell_type": "code",
   "execution_count": 27,
   "id": "cd94861e",
   "metadata": {},
   "outputs": [
    {
     "data": {
      "image/png": "[encoded data removed]",
      "text/plain": [
       "<Figure size 640x480 with 1 Axes>"
      ]
     },
     "metadata": {},
     "output_type": "display_data"
    }
   ],
   "source": [
    " #Calculate the cumulative explained variance ratio\n",
    "cumulative_var_ratio = np.cumsum(pca.explained_variance_ratio_)\n",
    "\n",
    "plt.plot(range(1, len(cumulative_var_ratio) + 1), cumulative_var_ratio, marker='o', linestyle='-', color='b')\n",
    "plt.xlabel('Number of Principal Components')\n",
    "plt.ylabel('Cumulative Explained Variance Ratio')\n",
    "plt.title('Cumulative Explained Variance Ratio vs. Number of Principal Components')\n",
    "plt.grid(True)\n",
    "plt.show()"
   ]
  },
  {
   "cell_type": "code",
   "execution_count": 28,
   "id": "5e8cce0c",
   "metadata": {},
   "outputs": [],
   "source": [
    "#Octet1, Octet2, Octet3, LoginRatio, Total Devices Per User, Total Countries Per User, Total Browser Categories Per User, and Country appear to be relatively important features"
   ]
  },
  {
   "cell_type": "code",
   "execution_count": 40,
   "id": "1c2bb87f",
   "metadata": {},
   "outputs": [
    {
     "name": "stderr",
     "output_type": "stream",
     "text": [
      "/Users/akshitbansal/anaconda3/lib/python3.10/site-packages/sklearn/cluster/_kmeans.py:870: FutureWarning: The default value of `n_init` will change from 3 to 'auto' in 1.4. Set the value of `n_init` explicitly to suppress the warning\n",
      "  warnings.warn(\n",
      "/Users/akshitbansal/anaconda3/lib/python3.10/site-packages/sklearn/cluster/_kmeans.py:870: FutureWarning: The default value of `n_init` will change from 3 to 'auto' in 1.4. Set the value of `n_init` explicitly to suppress the warning\n",
      "  warnings.warn(\n",
      "/Users/akshitbansal/anaconda3/lib/python3.10/site-packages/sklearn/cluster/_kmeans.py:870: FutureWarning: The default value of `n_init` will change from 3 to 'auto' in 1.4. Set the value of `n_init` explicitly to suppress the warning\n",
      "  warnings.warn(\n",
      "/Users/akshitbansal/anaconda3/lib/python3.10/site-packages/sklearn/cluster/_kmeans.py:870: FutureWarning: The default value of `n_init` will change from 3 to 'auto' in 1.4. Set the value of `n_init` explicitly to suppress the warning\n",
      "  warnings.warn(\n",
      "/Users/akshitbansal/anaconda3/lib/python3.10/site-packages/sklearn/cluster/_kmeans.py:870: FutureWarning: The default value of `n_init` will change from 3 to 'auto' in 1.4. Set the value of `n_init` explicitly to suppress the warning\n",
      "  warnings.warn(\n",
      "/Users/akshitbansal/anaconda3/lib/python3.10/site-packages/sklearn/cluster/_kmeans.py:870: FutureWarning: The default value of `n_init` will change from 3 to 'auto' in 1.4. Set the value of `n_init` explicitly to suppress the warning\n",
      "  warnings.warn(\n",
      "/Users/akshitbansal/anaconda3/lib/python3.10/site-packages/sklearn/cluster/_kmeans.py:870: FutureWarning: The default value of `n_init` will change from 3 to 'auto' in 1.4. Set the value of `n_init` explicitly to suppress the warning\n",
      "  warnings.warn(\n",
      "/Users/akshitbansal/anaconda3/lib/python3.10/site-packages/sklearn/cluster/_kmeans.py:870: FutureWarning: The default value of `n_init` will change from 3 to 'auto' in 1.4. Set the value of `n_init` explicitly to suppress the warning\n",
      "  warnings.warn(\n",
      "/Users/akshitbansal/anaconda3/lib/python3.10/site-packages/sklearn/cluster/_kmeans.py:870: FutureWarning: The default value of `n_init` will change from 3 to 'auto' in 1.4. Set the value of `n_init` explicitly to suppress the warning\n",
      "  warnings.warn(\n",
      "/Users/akshitbansal/anaconda3/lib/python3.10/site-packages/sklearn/cluster/_kmeans.py:870: FutureWarning: The default value of `n_init` will change from 3 to 'auto' in 1.4. Set the value of `n_init` explicitly to suppress the warning\n",
      "  warnings.warn(\n"
     ]
    }
   ],
   "source": [
    "wcss = []  \n",
    "max_clusters = 10  \n",
    "\n",
    "for k in range(1, max_clusters + 1):\n",
    "    kmeans = MiniBatchKMeans(n_clusters=k, random_state=0)\n",
    "    kmeans.fit(X_scaled)\n",
    "    wcss.append(kmeans.inertia_)"
   ]
  },
  {
   "cell_type": "code",
   "execution_count": 41,
   "id": "a623f550",
   "metadata": {},
   "outputs": [
    {
     "data": {
      "image/png": "[encoded data removed]",
      "text/plain": [
       "<Figure size 640x480 with 1 Axes>"
      ]
     },
     "metadata": {},
     "output_type": "display_data"
    }
   ],
   "source": [
    "# Plot the elbow curve\n",
    "plt.plot(range(1, max_clusters + 1), wcss, marker='o')\n",
    "plt.xlabel('Number of Clusters')\n",
    "plt.ylabel('WCSS')\n",
    "plt.title('Elbow Method')\n",
    "plt.show()"
   ]
  },
  {
   "cell_type": "code",
   "execution_count": 45,
   "id": "261aa8db",
   "metadata": {},
   "outputs": [
    {
     "name": "stderr",
     "output_type": "stream",
     "text": [
      "/Users/akshitbansal/anaconda3/lib/python3.10/site-packages/sklearn/cluster/_kmeans.py:870: FutureWarning: The default value of `n_init` will change from 10 to 'auto' in 1.4. Set the value of `n_init` explicitly to suppress the warning\n",
      "  warnings.warn(\n"
     ]
    },
    {
     "data": {
      "text/html": [
       "<style>#sk-container-id-2 {color: black;background-color: white;}#sk-container-id-2 pre{padding: 0;}#sk-container-id-2 div.sk-toggleable {background-color: white;}#sk-container-id-2 label.sk-toggleable__label {cursor: pointer;display: block;width: 100%;margin-bottom: 0;padding: 0.3em;box-sizing: border-box;text-align: center;}#sk-container-id-2 label.sk-toggleable__label-arrow:before {content: \"▸\";float: left;margin-right: 0.25em;color: #696969;}#sk-container-id-2 label.sk-toggleable__label-arrow:hover:before {color: black;}#sk-container-id-2 div.sk-estimator:hover label.sk-toggleable__label-arrow:before {color: black;}#sk-container-id-2 div.sk-toggleable__content {max-height: 0;max-width: 0;overflow: hidden;text-align: left;background-color: #f0f8ff;}#sk-container-id-2 div.sk-toggleable__content pre {margin: 0.2em;color: black;border-radius: 0.25em;background-color: #f0f8ff;}#sk-container-id-2 input.sk-toggleable__control:checked~div.sk-toggleable__content {max-height: 200px;max-width: 100%;overflow: auto;}#sk-container-id-2 input.sk-toggleable__control:checked~label.sk-toggleable__label-arrow:before {content: \"▾\";}#sk-container-id-2 div.sk-estimator input.sk-toggleable__control:checked~label.sk-toggleable__label {background-color: #d4ebff;}#sk-container-id-2 div.sk-label input.sk-toggleable__control:checked~label.sk-toggleable__label {background-color: #d4ebff;}#sk-container-id-2 input.sk-hidden--visually {border: 0;clip: rect(1px 1px 1px 1px);clip: rect(1px, 1px, 1px, 1px);height: 1px;margin: -1px;overflow: hidden;padding: 0;position: absolute;width: 1px;}#sk-container-id-2 div.sk-estimator {font-family: monospace;background-color: #f0f8ff;border: 1px dotted black;border-radius: 0.25em;box-sizing: border-box;margin-bottom: 0.5em;}#sk-container-id-2 div.sk-estimator:hover {background-color: #d4ebff;}#sk-container-id-2 div.sk-parallel-item::after {content: \"\";width: 100%;border-bottom: 1px solid gray;flex-grow: 1;}#sk-container-id-2 div.sk-label:hover label.sk-toggleable__label {background-color: #d4ebff;}#sk-container-id-2 div.sk-serial::before {content: \"\";position: absolute;border-left: 1px solid gray;box-sizing: border-box;top: 0;bottom: 0;left: 50%;z-index: 0;}#sk-container-id-2 div.sk-serial {display: flex;flex-direction: column;align-items: center;background-color: white;padding-right: 0.2em;padding-left: 0.2em;position: relative;}#sk-container-id-2 div.sk-item {position: relative;z-index: 1;}#sk-container-id-2 div.sk-parallel {display: flex;align-items: stretch;justify-content: center;background-color: white;position: relative;}#sk-container-id-2 div.sk-item::before, #sk-container-id-2 div.sk-parallel-item::before {content: \"\";position: absolute;border-left: 1px solid gray;box-sizing: border-box;top: 0;bottom: 0;left: 50%;z-index: -1;}#sk-container-id-2 div.sk-parallel-item {display: flex;flex-direction: column;z-index: 1;position: relative;background-color: white;}#sk-container-id-2 div.sk-parallel-item:first-child::after {align-self: flex-end;width: 50%;}#sk-container-id-2 div.sk-parallel-item:last-child::after {align-self: flex-start;width: 50%;}#sk-container-id-2 div.sk-parallel-item:only-child::after {width: 0;}#sk-container-id-2 div.sk-dashed-wrapped {border: 1px dashed gray;margin: 0 0.4em 0.5em 0.4em;box-sizing: border-box;padding-bottom: 0.4em;background-color: white;}#sk-container-id-2 div.sk-label label {font-family: monospace;font-weight: bold;display: inline-block;line-height: 1.2em;}#sk-container-id-2 div.sk-label-container {text-align: center;}#sk-container-id-2 div.sk-container {/* jupyter's `normalize.less` sets `[hidden] { display: none; }` but bootstrap.min.css set `[hidden] { display: none !important; }` so we also need the `!important` here to be able to override the default hidden behavior on the sphinx rendered scikit-learn.org. See: https://github.com/scikit-learn/scikit-learn/issues/21755 */display: inline-block !important;position: relative;}#sk-container-id-2 div.sk-text-repr-fallback {display: none;}</style><div id=\"sk-container-id-2\" class=\"sk-top-container\"><div class=\"sk-text-repr-fallback\"><pre>KMeans(n_clusters=9, random_state=0)</pre><b>In a Jupyter environment, please rerun this cell to show the HTML representation or trust the notebook. <br />On GitHub, the HTML representation is unable to render, please try loading this page with nbviewer.org.</b></div><div class=\"sk-container\" hidden><div class=\"sk-item\"><div class=\"sk-estimator sk-toggleable\"><input class=\"sk-toggleable__control sk-hidden--visually\" id=\"sk-estimator-id-2\" type=\"checkbox\" checked><label for=\"sk-estimator-id-2\" class=\"sk-toggleable__label sk-toggleable__label-arrow\">KMeans</label><div class=\"sk-toggleable__content\"><pre>KMeans(n_clusters=9, random_state=0)</pre></div></div></div></div></div>"
      ],
      "text/plain": [
       "KMeans(n_clusters=9, random_state=0)"
      ]
     },
     "execution_count": 45,
     "metadata": {},
     "output_type": "execute_result"
    }
   ],
   "source": [
    "# Perform k-means clustering\n",
    "k = 9  # Number of clusters\n",
    "kmeans = KMeans(n_clusters=k, random_state=0)\n",
    "kmeans.fit(X_scaled)"
   ]
  },
  {
   "cell_type": "code",
   "execution_count": 46,
   "id": "dd5d873e",
   "metadata": {},
   "outputs": [],
   "source": [
    "# Get the cluster labels\n",
    "cluster_labels = kmeans.labels_"
   ]
  },
  {
   "cell_type": "code",
   "execution_count": 47,
   "id": "62481b7a",
   "metadata": {},
   "outputs": [],
   "source": [
    "# Add the cluster labels to the original dataset\n",
    "df['Cluster'] = cluster_labels"
   ]
  },
  {
   "cell_type": "code",
   "execution_count": 48,
   "id": "89cca4ec",
   "metadata": {},
   "outputs": [],
   "source": [
    "# Analyze \n",
    "cluster_counts = df['Cluster'].value_counts()\n",
    "cluster_centers = scaler.inverse_transform(kmeans.cluster_centers_)"
   ]
  },
  {
   "cell_type": "code",
   "execution_count": 50,
   "id": "75fcea94",
   "metadata": {},
   "outputs": [
    {
     "name": "stdout",
     "output_type": "stream",
     "text": [
      "Cluster 7: Count = 3451099\n",
      "Cluster 1: Count = 3276728\n",
      "Cluster 4: Count = 2705980\n",
      "Cluster 3: Count = 2594821\n",
      "Cluster 0: Count = 2435546\n",
      "Cluster 5: Count = 1509908\n",
      "Cluster 2: Count = 1195186\n",
      "Cluster 6: Count = 70028\n",
      "Cluster 8: Count = 4069\n"
     ]
    }
   ],
   "source": [
    "# Printing the cluster information\n",
    "for cluster, count in cluster_counts.items():\n",
    "    print(f\"Cluster {cluster}: Count = {count}\")"
   ]
  },
  {
   "cell_type": "code",
   "execution_count": 52,
   "id": "e63a15fe",
   "metadata": {},
   "outputs": [
    {
     "name": "stdout",
     "output_type": "stream",
     "text": [
      "Cluster 0 Center:\n",
      "Octet1: 67.74329254519373\n",
      "Octet2: 165.6554184996396\n",
      "Octet3: 204.87151647336287\n",
      "LoginRatio: 0.9939548910192286\n",
      "Total Devices Per User: 1.0583434995665153\n",
      "Total Countries Per User: 1.017780434005872\n",
      "Total Browser Categories Per User: 1.2726329106631797\n",
      "Country: 173.7554542355415\n",
      "City: 21632.666561925398\n",
      "Region: 1764.132973921427\n",
      "Device Type: 1.8723967254459992\n",
      "Login Successful: 0.6143477385777704\n",
      "Browser Category: 8.975568590240615\n",
      "Cluster 1 Center:\n",
      "Octet1: 84.24533015914555\n",
      "Octet2: 141.6402917321368\n",
      "Octet3: 118.00659973459481\n",
      "LoginRatio: 0.22389910148757508\n",
      "Total Devices Per User: 2.2186712469305654\n",
      "Total Countries Per User: 1.1092305049385074\n",
      "Total Browser Categories Per User: 2.7796370924069516\n",
      "Country: 144.70928243870827\n",
      "City: 18554.224738827903\n",
      "Region: 1567.9749680601617\n",
      "Device Type: 0.999979250917354\n",
      "Login Successful: 0.8878106145599387\n",
      "Browser Category: 8.149782149882945\n",
      "Cluster 2 Center:\n",
      "Octet1: 110.68770974311765\n",
      "Octet2: 99.80894943068216\n",
      "Octet3: 127.51293984337022\n",
      "LoginRatio: 0.7585349236770469\n",
      "Total Devices Per User: 1.1487370639222845\n",
      "Total Countries Per User: 1.0859484448253147\n",
      "Total Browser Categories Per User: 1.3448214683235955\n",
      "Country: 42.10443847833976\n",
      "City: 23293.492925855\n",
      "Region: 1719.1969396958375\n",
      "Device Type: 1.736962660074251\n",
      "Login Successful: 0.7416592323799379\n",
      "Browser Category: 10.54303154871587\n",
      "Cluster 3 Center:\n",
      "Octet1: 64.38114756788966\n",
      "Octet2: 108.92817407600864\n",
      "Octet3: 80.46426190283833\n",
      "LoginRatio: 0.5934157616263747\n",
      "Total Devices Per User: 1.2036844097985109\n",
      "Total Countries Per User: 1.0518185365199784\n",
      "Total Browser Categories Per User: 1.469230914408825\n",
      "Country: 145.52363660316283\n",
      "City: 12822.365605393363\n",
      "Region: 1060.2708964453436\n",
      "Device Type: 1.6579123834732334\n",
      "Login Successful: 0.7715317735951865\n",
      "Browser Category: 8.328882625253154\n",
      "Cluster 4 Center:\n",
      "Octet1: 87.06821645313671\n",
      "Octet2: 149.46169512298644\n",
      "Octet3: 113.6466630271552\n",
      "LoginRatio: 0.5757479885849364\n",
      "Total Devices Per User: 2.2457775686601895\n",
      "Total Countries Per User: 1.0997160958954217\n",
      "Total Browser Categories Per User: 3.0238684955907758\n",
      "Country: 145.45189579269353\n",
      "City: 18116.572602163866\n",
      "Region: 1579.027198759867\n",
      "Device Type: 2.147284540956045\n",
      "Login Successful: 0.832479945414329\n",
      "Browser Category: 7.033477472299917\n",
      "Cluster 5 Center:\n",
      "Octet1: 89.34869227070773\n",
      "Octet2: 140.77601717061657\n",
      "Octet3: 115.64805082310079\n",
      "LoginRatio: 0.569711567504811\n",
      "Total Devices Per User: 1.6454111264602718\n",
      "Total Countries Per User: 1.0584183541696683\n",
      "Total Browser Categories Per User: 2.5510250844026405\n",
      "Country: 147.7869534351299\n",
      "City: 18758.223200058907\n",
      "Region: 1554.5918774692886\n",
      "Device Type: 2.067517559345722\n",
      "Login Successful: 0.7492870964792924\n",
      "Browser Category: 40.3514061383799\n",
      "Cluster 6 Center:\n",
      "Octet1: 134.35051693607844\n",
      "Octet2: 174.6549094647754\n",
      "Octet3: 63.38133318100448\n",
      "LoginRatio: 35012.9999999937\n",
      "Total Devices Per User: 1.0000000000000377\n",
      "Total Countries Per User: 0.9999999999999952\n",
      "Total Browser Categories Per User: 0.999999999999845\n",
      "Country: 146.00000000000045\n",
      "City: 13205.21468555367\n",
      "Region: 636.9999999999317\n",
      "Device Type: 0.9999999999998352\n",
      "Login Successful: 2.8560004429634134e-05\n",
      "Browser Category: 7.999999999999847\n",
      "Cluster 7 Center:\n",
      "Octet1: 157.82930287672244\n",
      "Octet2: 94.03817412183616\n",
      "Octet3: 84.52666204349185\n",
      "LoginRatio: 1.4221310805256735\n",
      "Total Devices Per User: 1.0229847451342984\n",
      "Total Countries Per User: 1.0134972891539622\n",
      "Total Browser Categories Per User: 1.1980023571531737\n",
      "Country: 189.19647371158473\n",
      "City: 26412.913719181706\n",
      "Region: 1868.1504282967894\n",
      "Device Type: 1.9617650220939173\n",
      "Login Successful: 0.5391250698758723\n",
      "Browser Category: 9.745762608716904\n",
      "Cluster 8 Center:\n",
      "Octet1: 81.16785450970747\n",
      "Octet2: 115.1531088719587\n",
      "Octet3: 118.23740476775622\n",
      "LoginRatio: 327.85082329810757\n",
      "Total Devices Per User: 3.506266896043274\n",
      "Total Countries Per User: 18.500368640943805\n",
      "Total Browser Categories Per User: 10.728188744163178\n",
      "Country: 80.4384369623987\n",
      "City: 21242.947407225358\n",
      "Region: 1601.3784713688867\n",
      "Device Type: 1.6915704104202511\n",
      "Login Successful: 0.679773900221184\n",
      "Browser Category: 11.25755713934628\n"
     ]
    }
   ],
   "source": [
    "# Printing the cluster centers (average values for each feature)\n",
    "for cluster, center in enumerate(cluster_centers):\n",
    "    print(f\"Cluster {cluster} Center:\")\n",
    "    for feature, value in zip(selected_columns, center):\n",
    "        print(f\"{feature}: {value}\")"
   ]
  },
  {
   "cell_type": "code",
   "execution_count": 54,
   "id": "d3a5228a",
   "metadata": {},
   "outputs": [],
   "source": [
    "data_selected = df[selected_columns]"
   ]
  },
  {
   "cell_type": "code",
   "execution_count": null,
   "id": "1b060e79",
   "metadata": {},
   "outputs": [],
   "source": [
    "tsne = TSNE(n_components=2, random_state=42)"
   ]
  },
  {
   "cell_type": "code",
   "execution_count": null,
   "id": "0025fba7",
   "metadata": {},
   "outputs": [],
   "source": [
    "data_tsne = tsne.fit_transform(data_selected)"
   ]
  },
  {
   "cell_type": "code",
   "execution_count": null,
   "id": "ba800577",
   "metadata": {},
   "outputs": [],
   "source": [
    "plt.scatter(data_tsne[:, 0], data_tsne[:, 1], c=labels)\n",
    "plt.xlabel('t-SNE Dimension 1')\n",
    "plt.ylabel('t-SNE Dimension 2')\n",
    "plt.title('t-SNE Visualization')\n",
    "plt.show()"
   ]
  }
 ],
 "metadata": {
  "kernelspec": {
   "display_name": "Python 3 (ipykernel)",
   "language": "python",
   "name": "python3"
  },
  "language_info": {
   "codemirror_mode": {
    "name": "ipython",
    "version": 3
   },
   "file_extension": ".py",
   "mimetype": "text/x-python",
   "name": "python",
   "nbconvert_exporter": "python",
   "pygments_lexer": "ipython3",
   "version": "3.10.9"
  }
 },
 "nbformat": 4,
 "nbformat_minor": 5
}
